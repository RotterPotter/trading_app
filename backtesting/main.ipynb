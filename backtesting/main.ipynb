{
 "cells": [
  {
   "cell_type": "code",
   "execution_count": null,
   "metadata": {},
   "outputs": [],
   "source": [
    "from src.backtesting_program import BacktestingPorgram\n",
    "from src.checker import Checker\n",
    "import pandas as pd\n",
    "from config import settings"
   ]
  },
  {
   "cell_type": "code",
   "execution_count": null,
   "metadata": {},
   "outputs": [],
   "source": [
    "data = pd.read_csv(\"data.csv\")\n"
   ]
  },
  {
   "cell_type": "code",
   "execution_count": 3,
   "metadata": {},
   "outputs": [],
   "source": [
    "settings.LOGS_FILE_PATH = \"output/logs.csv\"\n",
    "settings.EXECUTED_TRADES_FILE_PATH = \"output/executed_trades.json\"\n",
    "\n",
    "checker = Checker(\n",
    "  active_checkers={\n",
    "    \"when_trade_is_opened\" : {\n",
    "      \"global\": [\n",
    "        \"end_time_checker\"\n",
    "      ],\n",
    "      \"to_close_sell\": [\n",
    "        \"updating_sell_stop_loss_checker\",\n",
    "        \"to_close_sell_trade_1_checker\",\n",
    "        \"to_close_sell_trade_2_checker\",\n",
    "        \"to_close_sell_trade_3_checker\"\n",
    "      ],\n",
    "      \"to_close_buy\": [\n",
    "        \"updating_buy_stop_loss_checker\",\n",
    "        \"to_close_buy_trade_1_checker\",\n",
    "        \"to_close_buy_trade_2_checker\",\n",
    "        \"to_close_buy_trade_3_checker\"\n",
    "      ]\n",
    "    },\n",
    "    \"when_trade_is_not_opened\" : {\n",
    "      \"global\": [\n",
    "      \"start_time_checker\",\n",
    "      \"no_more_trades_time_checker\",\n",
    "      ],\n",
    "      # if checker returns \"SKIP\", program skips all \"to_open_sell\" checkers and goes to \"to_open_buy\" checkers\n",
    "      \"to_open_sell\": [\n",
    "        \"if_sell_was_executed_once_this_day\",\n",
    "        \"to_sell_order_1_checker\",\n",
    "      ],\n",
    "      \"to_open_buy\": [\n",
    "      \"if_buy_was_executed_once_this_day\",\n",
    "      \"to_buy_order_1_checker\",\n",
    "      ]\n",
    "    }\n",
    "  },\n",
    "  data=data,\n",
    "  params={\"start_time\": \"06:00\", \"end_time\": \"23:00\", \"no_more_trades_time\": \"21:30\"},\n",
    ")\n",
    "\n",
    "program = BacktestingPorgram(\n",
    "  historical_data=data,\n",
    "  checker=checker,\n",
    ")\n",
    "\n",
    "program.start()"
   ]
  },
  {
   "cell_type": "code",
   "execution_count": 4,
   "metadata": {},
   "outputs": [
    {
     "data": {
      "text/html": [
       "<div>\n",
       "<style scoped>\n",
       "    .dataframe tbody tr th:only-of-type {\n",
       "        vertical-align: middle;\n",
       "    }\n",
       "\n",
       "    .dataframe tbody tr th {\n",
       "        vertical-align: top;\n",
       "    }\n",
       "\n",
       "    .dataframe thead th {\n",
       "        text-align: right;\n",
       "    }\n",
       "</style>\n",
       "<table border=\"1\" class=\"dataframe\">\n",
       "  <thead>\n",
       "    <tr style=\"text-align: right;\">\n",
       "      <th></th>\n",
       "      <th>Opened Trades</th>\n",
       "      <th>Win Ratio</th>\n",
       "      <th>Average R:R</th>\n",
       "      <th>P/L</th>\n",
       "      <th>Consecutive Losses</th>\n",
       "      <th>Losses Quantity</th>\n",
       "      <th>BE Quantity</th>\n",
       "      <th>Win Quantity</th>\n",
       "    </tr>\n",
       "  </thead>\n",
       "  <tbody>\n",
       "    <tr>\n",
       "      <th>0</th>\n",
       "      <td>14</td>\n",
       "      <td>50.0%</td>\n",
       "      <td>1:4.17</td>\n",
       "      <td>1.15%</td>\n",
       "      <td>4</td>\n",
       "      <td>7</td>\n",
       "      <td>0</td>\n",
       "      <td>7</td>\n",
       "    </tr>\n",
       "  </tbody>\n",
       "</table>\n",
       "</div>"
      ],
      "text/plain": [
       "   Opened Trades Win Ratio Average R:R    P/L  Consecutive Losses  \\\n",
       "0             14     50.0%      1:4.17  1.15%                   4   \n",
       "\n",
       "   Losses Quantity  BE Quantity  Win Quantity  \n",
       "0                7            0             7  "
      ]
     },
     "execution_count": 4,
     "metadata": {},
     "output_type": "execute_result"
    }
   ],
   "source": [
    "program.summary"
   ]
  },
  {
   "cell_type": "code",
   "execution_count": 8,
   "metadata": {},
   "outputs": [
    {
     "data": {
      "text/html": [
       "<div>\n",
       "<style scoped>\n",
       "    .dataframe tbody tr th:only-of-type {\n",
       "        vertical-align: middle;\n",
       "    }\n",
       "\n",
       "    .dataframe tbody tr th {\n",
       "        vertical-align: top;\n",
       "    }\n",
       "\n",
       "    .dataframe thead th {\n",
       "        text-align: right;\n",
       "    }\n",
       "</style>\n",
       "<table border=\"1\" class=\"dataframe\">\n",
       "  <thead>\n",
       "    <tr style=\"text-align: right;\">\n",
       "      <th></th>\n",
       "      <th>GmtTime</th>\n",
       "      <th>Log</th>\n",
       "    </tr>\n",
       "  </thead>\n",
       "  <tbody>\n",
       "    <tr>\n",
       "      <th>0</th>\n",
       "      <td>2023-06-02 20:00:00+00:00</td>\n",
       "      <td>Trade BUY 1% was opened on the price 1948.28.\\...</td>\n",
       "    </tr>\n",
       "    <tr>\n",
       "      <th>1</th>\n",
       "      <td>2023-06-02 20:15:00+00:00</td>\n",
       "      <td>Trade BUY 1% was closed on the price 1948.36.\\...</td>\n",
       "    </tr>\n",
       "  </tbody>\n",
       "</table>\n",
       "</div>"
      ],
      "text/plain": [
       "                     GmtTime  \\\n",
       "0  2023-06-02 20:00:00+00:00   \n",
       "1  2023-06-02 20:15:00+00:00   \n",
       "\n",
       "                                                 Log  \n",
       "0  Trade BUY 1% was opened on the price 1948.28.\\...  \n",
       "1  Trade BUY 1% was closed on the price 1948.36.\\...  "
      ]
     },
     "execution_count": 8,
     "metadata": {},
     "output_type": "execute_result"
    }
   ],
   "source": [
    "# example of accessing class vars\n",
    "program.executed_trades[2].logs"
   ]
  },
  {
   "cell_type": "code",
   "execution_count": null,
   "metadata": {},
   "outputs": [],
   "source": []
  }
 ],
 "metadata": {
  "kernelspec": {
   "display_name": ".venv",
   "language": "python",
   "name": "python3"
  },
  "language_info": {
   "codemirror_mode": {
    "name": "ipython",
    "version": 3
   },
   "file_extension": ".py",
   "mimetype": "text/x-python",
   "name": "python",
   "nbconvert_exporter": "python",
   "pygments_lexer": "ipython3",
   "version": "3.10.12"
  }
 },
 "nbformat": 4,
 "nbformat_minor": 2
}
