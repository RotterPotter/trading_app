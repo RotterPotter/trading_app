{
 "cells": [
  {
   "cell_type": "code",
   "execution_count": null,
   "metadata": {},
   "outputs": [],
   "source": [
    "from src.backtesting_program import BacktestingPorgram\n",
    "from src.checker import Checker\n",
    "import pandas as pd\n",
    "from config import settings\n",
    "from src.service import Service"
   ]
  },
  {
   "cell_type": "code",
   "execution_count": null,
   "metadata": {},
   "outputs": [],
   "source": [
    "# data = pd.read_csv(\"data.csv\")\n",
    "service = Service()\n",
    "data = service.take_polygon_gold_historical_data(\n",
    "  from_=\"2025-01-01\",\n",
    "  to=\"2025-03-01\",\n",
    "  limit=50000,\n",
    "  candle_size=15,\n",
    "  tz_convert='America/New_York'\n",
    "  )"
   ]
  },
  {
   "cell_type": "code",
   "execution_count": null,
   "metadata": {},
   "outputs": [],
   "source": [
    "settings.LOGS_FILE_PATH = \"output/logs.csv\"\n",
    "settings.EXECUTED_TRADES_FILE_PATH = \"output/executed_trades.json\"\n",
    "\n",
    "checker = Checker(\n",
    "  active_checkers={\n",
    "    \"when_trade_is_opened\" : {\n",
    "      \"global\": [\n",
    "        \"end_time_checker\"\n",
    "      ],\n",
    "      \"to_close_sell\": [\n",
    "        \"updating_sell_stop_loss_checker\",\n",
    "        \"to_close_sell_trade_1_checker\",\n",
    "        \"to_close_sell_trade_2_checker\",\n",
    "        \"to_close_sell_trade_3_checker\"\n",
    "      ],\n",
    "      \"to_close_buy\": [\n",
    "        \"updating_buy_stop_loss_checker\",\n",
    "        \"to_close_buy_trade_1_checker\",\n",
    "        \"to_close_buy_trade_2_checker\",\n",
    "        \"to_close_buy_trade_3_checker\"\n",
    "      ]\n",
    "    },\n",
    "    \"when_trade_is_not_opened\" : {\n",
    "      \"global\": [\n",
    "      \"start_time_checker\",\n",
    "      \"no_more_trades_time_checker\",\n",
    "      ],\n",
    "      # if checker returns \"SKIP\", program skips all \"to_open_sell\" checkers and goes to \"to_open_buy\" checkers\n",
    "      \"to_open_sell\": [\n",
    "        \"if_sell_was_executed_once_this_day\",\n",
    "        \"to_sell_order_1_checker\",\n",
    "      ],\n",
    "      \"to_open_buy\": [\n",
    "      \"if_buy_was_executed_once_this_day\",\n",
    "      \"to_buy_order_1_checker\",\n",
    "      ]\n",
    "    }\n",
    "  },\n",
    "  data=data,\n",
    "  params={\"start_time\": \"06:00\", \"end_time\": \"23:00\", \"no_more_trades_time\": \"21:30\"},\n",
    ")\n",
    "\n",
    "program = BacktestingPorgram(\n",
    "  historical_data=data,\n",
    "  checker=checker,\n",
    ")\n",
    "\n",
    "program.start()"
   ]
  },
  {
   "cell_type": "code",
   "execution_count": null,
   "metadata": {},
   "outputs": [],
   "source": [
    "program.summary"
   ]
  },
  {
   "cell_type": "code",
   "execution_count": null,
   "metadata": {},
   "outputs": [],
   "source": []
  }
 ],
 "metadata": {
  "kernelspec": {
   "display_name": ".venv",
   "language": "python",
   "name": "python3"
  },
  "language_info": {
   "codemirror_mode": {
    "name": "ipython",
    "version": 3
   },
   "file_extension": ".py",
   "mimetype": "text/x-python",
   "name": "python",
   "nbconvert_exporter": "python",
   "pygments_lexer": "ipython3",
   "version": "3.10.12"
  }
 },
 "nbformat": 4,
 "nbformat_minor": 2
}
