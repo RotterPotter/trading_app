{
 "cells": [
  {
   "cell_type": "code",
   "execution_count": 25,
   "id": "935ce8d4",
   "metadata": {},
   "outputs": [],
   "source": [
    "from src.backtesting_program import BacktestingPorgram\n",
    "from src.checker import Checker\n",
    "import pandas as pd\n",
    "from config import settings\n",
    "from src.service import Service\n",
    "from datetime import datetime, timezone, timedelta, time"
   ]
  },
  {
   "cell_type": "code",
   "execution_count": 2,
   "id": "4dd6e7e7",
   "metadata": {},
   "outputs": [],
   "source": [
    "with open('tests/testing_data.csv', \"r\") as fp:\n",
    " data = pd.read_csv(fp)"
   ]
  },
  {
   "cell_type": "code",
   "execution_count": 23,
   "id": "0b7a9982",
   "metadata": {},
   "outputs": [
    {
     "name": "stdout",
     "output_type": "stream",
     "text": [
      "18\n"
     ]
    }
   ],
   "source": [
    "for candle_data in data.itertuples():\n",
    "  print(candle_data.Time.split(\" \")[1].split(\":\")[0])\n",
    "  break"
   ]
  },
  {
   "cell_type": "code",
   "execution_count": null,
   "id": "631e3fab",
   "metadata": {},
   "outputs": [],
   "source": [
    "candle_time = time(hour=int(candle_data.Time.split(\" \")[1].split(\":\")[0]), minute=int(candle_data.Time.split(\" \")[1].split(\":\")[1]))\n",
    "test_time = time(hour=int(\"02\"), minute=int(\"00\"))\n",
    "if candle_time > test_time:\n",
    "  print(True)"
   ]
  },
  {
   "cell_type": "code",
   "execution_count": 18,
   "id": "854c8ddb",
   "metadata": {},
   "outputs": [
    {
     "data": {
      "text/plain": [
       "'2025-04-13 04:27:38-0500'"
      ]
     },
     "execution_count": 18,
     "metadata": {},
     "output_type": "execute_result"
    }
   ],
   "source": [
    "custom_timezone = timezone(timedelta(hours=-5))\n",
    "dt_custom_tz = datetime.now(custom_timezone)\n",
    "dt_custom_tz.strftime('%Y-%m-%d %H:%M:%S%z')"
   ]
  },
  {
   "cell_type": "code",
   "execution_count": 20,
   "id": "a48c5c80",
   "metadata": {},
   "outputs": [
    {
     "data": {
      "text/html": [
       "<div>\n",
       "<style scoped>\n",
       "    .dataframe tbody tr th:only-of-type {\n",
       "        vertical-align: middle;\n",
       "    }\n",
       "\n",
       "    .dataframe tbody tr th {\n",
       "        vertical-align: top;\n",
       "    }\n",
       "\n",
       "    .dataframe thead th {\n",
       "        text-align: right;\n",
       "    }\n",
       "</style>\n",
       "<table border=\"1\" class=\"dataframe\">\n",
       "  <thead>\n",
       "    <tr style=\"text-align: right;\">\n",
       "      <th></th>\n",
       "      <th>Unnamed: 0</th>\n",
       "      <th>Time</th>\n",
       "      <th>Open</th>\n",
       "      <th>High</th>\n",
       "      <th>Low</th>\n",
       "      <th>Close</th>\n",
       "      <th>Volume</th>\n",
       "    </tr>\n",
       "  </thead>\n",
       "  <tbody>\n",
       "    <tr>\n",
       "      <th>0</th>\n",
       "      <td>0</td>\n",
       "      <td>2025-01-01 18:00:00-0500</td>\n",
       "      <td>2624.80</td>\n",
       "      <td>2625.01</td>\n",
       "      <td>2623.90</td>\n",
       "      <td>2624.26</td>\n",
       "      <td>38</td>\n",
       "    </tr>\n",
       "    <tr>\n",
       "      <th>1</th>\n",
       "      <td>1</td>\n",
       "      <td>2025-01-01 18:15:00-0500</td>\n",
       "      <td>2624.31</td>\n",
       "      <td>2624.39</td>\n",
       "      <td>2623.18</td>\n",
       "      <td>2623.57</td>\n",
       "      <td>40</td>\n",
       "    </tr>\n",
       "    <tr>\n",
       "      <th>2</th>\n",
       "      <td>2</td>\n",
       "      <td>2025-01-01 18:30:00-0500</td>\n",
       "      <td>2623.54</td>\n",
       "      <td>2623.58</td>\n",
       "      <td>2621.40</td>\n",
       "      <td>2622.13</td>\n",
       "      <td>45</td>\n",
       "    </tr>\n",
       "    <tr>\n",
       "      <th>3</th>\n",
       "      <td>3</td>\n",
       "      <td>2025-01-01 18:45:00-0500</td>\n",
       "      <td>2621.46</td>\n",
       "      <td>2623.98</td>\n",
       "      <td>2620.70</td>\n",
       "      <td>2623.68</td>\n",
       "      <td>40</td>\n",
       "    </tr>\n",
       "    <tr>\n",
       "      <th>4</th>\n",
       "      <td>4</td>\n",
       "      <td>2025-01-01 19:00:00-0500</td>\n",
       "      <td>2623.52</td>\n",
       "      <td>2625.96</td>\n",
       "      <td>2622.00</td>\n",
       "      <td>2625.64</td>\n",
       "      <td>40</td>\n",
       "    </tr>\n",
       "    <tr>\n",
       "      <th>...</th>\n",
       "      <td>...</td>\n",
       "      <td>...</td>\n",
       "      <td>...</td>\n",
       "      <td>...</td>\n",
       "      <td>...</td>\n",
       "      <td>...</td>\n",
       "      <td>...</td>\n",
       "    </tr>\n",
       "    <tr>\n",
       "      <th>3882</th>\n",
       "      <td>3882</td>\n",
       "      <td>2025-02-28 15:45:00-0500</td>\n",
       "      <td>2849.79</td>\n",
       "      <td>2854.37</td>\n",
       "      <td>2849.41</td>\n",
       "      <td>2854.37</td>\n",
       "      <td>38</td>\n",
       "    </tr>\n",
       "    <tr>\n",
       "      <th>3883</th>\n",
       "      <td>3883</td>\n",
       "      <td>2025-02-28 16:00:00-0500</td>\n",
       "      <td>2854.56</td>\n",
       "      <td>2854.86</td>\n",
       "      <td>2852.78</td>\n",
       "      <td>2854.46</td>\n",
       "      <td>38</td>\n",
       "    </tr>\n",
       "    <tr>\n",
       "      <th>3884</th>\n",
       "      <td>3884</td>\n",
       "      <td>2025-02-28 16:15:00-0500</td>\n",
       "      <td>2854.74</td>\n",
       "      <td>2857.43</td>\n",
       "      <td>2854.42</td>\n",
       "      <td>2856.36</td>\n",
       "      <td>39</td>\n",
       "    </tr>\n",
       "    <tr>\n",
       "      <th>3885</th>\n",
       "      <td>3885</td>\n",
       "      <td>2025-02-28 16:30:00-0500</td>\n",
       "      <td>2856.78</td>\n",
       "      <td>2858.44</td>\n",
       "      <td>2856.28</td>\n",
       "      <td>2857.49</td>\n",
       "      <td>39</td>\n",
       "    </tr>\n",
       "    <tr>\n",
       "      <th>3886</th>\n",
       "      <td>3886</td>\n",
       "      <td>2025-02-28 16:45:00-0500</td>\n",
       "      <td>2857.83</td>\n",
       "      <td>2858.87</td>\n",
       "      <td>2857.09</td>\n",
       "      <td>2857.09</td>\n",
       "      <td>39</td>\n",
       "    </tr>\n",
       "  </tbody>\n",
       "</table>\n",
       "<p>3887 rows × 7 columns</p>\n",
       "</div>"
      ],
      "text/plain": [
       "      Unnamed: 0                      Time     Open     High      Low  \\\n",
       "0              0  2025-01-01 18:00:00-0500  2624.80  2625.01  2623.90   \n",
       "1              1  2025-01-01 18:15:00-0500  2624.31  2624.39  2623.18   \n",
       "2              2  2025-01-01 18:30:00-0500  2623.54  2623.58  2621.40   \n",
       "3              3  2025-01-01 18:45:00-0500  2621.46  2623.98  2620.70   \n",
       "4              4  2025-01-01 19:00:00-0500  2623.52  2625.96  2622.00   \n",
       "...          ...                       ...      ...      ...      ...   \n",
       "3882        3882  2025-02-28 15:45:00-0500  2849.79  2854.37  2849.41   \n",
       "3883        3883  2025-02-28 16:00:00-0500  2854.56  2854.86  2852.78   \n",
       "3884        3884  2025-02-28 16:15:00-0500  2854.74  2857.43  2854.42   \n",
       "3885        3885  2025-02-28 16:30:00-0500  2856.78  2858.44  2856.28   \n",
       "3886        3886  2025-02-28 16:45:00-0500  2857.83  2858.87  2857.09   \n",
       "\n",
       "        Close  Volume  \n",
       "0     2624.26      38  \n",
       "1     2623.57      40  \n",
       "2     2622.13      45  \n",
       "3     2623.68      40  \n",
       "4     2625.64      40  \n",
       "...       ...     ...  \n",
       "3882  2854.37      38  \n",
       "3883  2854.46      38  \n",
       "3884  2856.36      39  \n",
       "3885  2857.49      39  \n",
       "3886  2857.09      39  \n",
       "\n",
       "[3887 rows x 7 columns]"
      ]
     },
     "execution_count": 20,
     "metadata": {},
     "output_type": "execute_result"
    }
   ],
   "source": [
    "data"
   ]
  },
  {
   "cell_type": "code",
   "execution_count": 21,
   "id": "c8ab09ff",
   "metadata": {},
   "outputs": [
    {
     "data": {
      "text/plain": [
       "Index(['Unnamed: 0', 'Time', 'Open', 'High', 'Low', 'Close', 'Volume'], dtype='object')"
      ]
     },
     "execution_count": 21,
     "metadata": {},
     "output_type": "execute_result"
    }
   ],
   "source": [
    "data.columns"
   ]
  },
  {
   "cell_type": "code",
   "execution_count": null,
   "id": "a6f248a9",
   "metadata": {},
   "outputs": [],
   "source": []
  }
 ],
 "metadata": {
  "kernelspec": {
   "display_name": ".venv",
   "language": "python",
   "name": "python3"
  },
  "language_info": {
   "codemirror_mode": {
    "name": "ipython",
    "version": 3
   },
   "file_extension": ".py",
   "mimetype": "text/x-python",
   "name": "python",
   "nbconvert_exporter": "python",
   "pygments_lexer": "ipython3",
   "version": "3.10.12"
  }
 },
 "nbformat": 4,
 "nbformat_minor": 5
}
